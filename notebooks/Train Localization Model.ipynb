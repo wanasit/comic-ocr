{
 "cells": [
  {
   "cell_type": "code",
   "execution_count": null,
   "outputs": [],
   "source": [
    "import sys\n",
    "import os\n",
    "sys.path.append('..')\n",
    "from datetime import datetime\n",
    "\n",
    "now = datetime.now()\n",
    "timestamp = now.strftime(\"%Y_%m_%d_%H%M%S\")\n",
    "print(timestamp)"
   ],
   "metadata": {
    "collapsed": false,
    "pycharm": {
     "name": "#%%\n"
    }
   }
  },
  {
   "cell_type": "markdown",
   "source": [
    "# Load/Prepare model"
   ],
   "metadata": {
    "collapsed": false,
    "pycharm": {
     "name": "#%% md\n"
    }
   }
  },
  {
   "cell_type": "code",
   "execution_count": null,
   "outputs": [],
   "source": [
    "import torch\n",
    "from comic_ocr.models import localization\n",
    "from comic_ocr.utils.files import get_path_project_dir, load_image\n",
    "from comic_ocr.utils.pytorch_model import get_total_parameters_count\n",
    "\n",
    "model_path = get_path_project_dir(\n",
    "    f'data/output/models/localization_{timestamp}.bin'\n",
    ")\n",
    "if os.path.exists(model_path) and not forcing_new_model:\n",
    "    print('Loading an existing model...')\n",
    "    model = torch.load(model_path)\n",
    "else:\n",
    "    print('Creating a new model...')\n",
    "    model = localization.create_new_model()\n",
    "\n",
    "def save_model(model, model_path):\n",
    "    torch.save(model, model_path)\n",
    "\n",
    "\n",
    "print(f'Training [{model_path}]')\n",
    "\n",
    "print('- preferred_image_size:', model.preferred_image_size)\n",
    "print('- get_total_parameters_count', get_total_parameters_count(model))\n",
    "print('- model', model)"
   ],
   "metadata": {
    "collapsed": false,
    "pycharm": {
     "name": "#%%\n"
    }
   }
  },
  {
   "cell_type": "code",
   "execution_count": null,
   "outputs": [],
   "source": [],
   "metadata": {
    "collapsed": false,
    "pycharm": {
     "name": "#%%\n"
    }
   }
  },
  {
   "cell_type": "markdown",
   "source": [
    "## Load/Prepare Dataset"
   ],
   "metadata": {
    "collapsed": false,
    "pycharm": {
     "name": "#%% md\n"
    }
   }
  },
  {
   "cell_type": "code",
   "execution_count": null,
   "outputs": [],
   "source": [
    "from comic_ocr.models.localization.localization_dataset import LocalizationDataset\n",
    "from comic_ocr.utils.ploting import show_images\n",
    "from comic_ocr.utils import image_with_annotations, concatenated_images"
   ],
   "metadata": {
    "collapsed": false,
    "pycharm": {
     "name": "#%%\n"
    }
   }
  },
  {
   "cell_type": "code",
   "execution_count": null,
   "outputs": [],
   "source": [
    "dataset_generated_path = get_path_project_dir('data/output/generate_manga_dataset')\n",
    "dataset_generated = LocalizationDataset.load_generated_dataset(model, dataset_generated_path)\n",
    "\n",
    "print('dataset_generated', len(dataset_generated))\n",
    "show_images([\n",
    "    concatenated_images(\n",
    "        (dataset_generated.get_image(0), dataset_generated.get_mask_char(0), dataset_generated.get_mask_line(0))), \n",
    "    concatenated_images(\n",
    "        (dataset_generated.get_image(1), dataset_generated.get_mask_char(1), dataset_generated.get_mask_line(1))), \n",
    "], figsize=(30, 15), num_col=1)"
   ],
   "metadata": {
    "collapsed": false,
    "pycharm": {
     "name": "#%%\n"
    }
   }
  },
  {
   "cell_type": "code",
   "execution_count": null,
   "outputs": [],
   "source": [
    "dataset_annotated_path = get_path_project_dir('data/manga_line_annotated')\n",
    "dataset_annotated = LocalizationDataset.load_line_annotated_dataset(model, dataset_annotated_path)\n",
    "\n",
    "print('dataset_annotated', len(dataset_annotated))\n",
    "show_images([\n",
    "    concatenated_images(\n",
    "        (dataset_annotated.get_image(0), dataset_annotated.get_mask_char(0), dataset_annotated.get_mask_line(0))), \n",
    "    concatenated_images(\n",
    "        (dataset_annotated.get_image(1), dataset_annotated.get_mask_char(1), dataset_annotated.get_mask_line(1))), \n",
    "], figsize=(30, 15), num_col=1)"
   ],
   "metadata": {
    "collapsed": false,
    "pycharm": {
     "name": "#%%\n"
    }
   }
  },
  {
   "cell_type": "code",
   "execution_count": null,
   "outputs": [],
   "source": [
    "import random\n",
    "random.seed('abc')\n",
    "dataset_annotated = dataset_annotated.shuffle()\n",
    "dataset_generated = dataset_generated.shuffle()\n",
    "\n",
    "\n",
    "show_images([\n",
    "    dataset_generated.get_image(0),\n",
    "    dataset_generated.get_image(1),\n",
    "    dataset_generated.get_image(2),\n",
    "    dataset_annotated.get_image(0), \n",
    "    dataset_annotated.get_image(1), \n",
    "    dataset_annotated.get_image(2),\n",
    "])\n",
    "\n",
    "validation_dataset = LocalizationDataset.merge(\n",
    "    dataset_generated.subset(to_idx=90),\n",
    "    dataset_annotated.subset(to_idx=10))\n",
    "\n",
    "training_dataset = LocalizationDataset.merge(\n",
    "    dataset_generated.subset(from_idx=90, to_idx=3000),\n",
    "    dataset_annotated.subset(from_idx=10)\n",
    ").shuffle()\n",
    "\n",
    "\n",
    "\n",
    "print('validation_dataset', len(validation_dataset))\n",
    "print('training_dataset', len(training_dataset))"
   ],
   "metadata": {
    "collapsed": false,
    "pycharm": {
     "name": "#%%\n"
    }
   }
  },
  {
   "cell_type": "code",
   "execution_count": null,
   "outputs": [],
   "source": [],
   "metadata": {
    "collapsed": false,
    "pycharm": {
     "name": "#%%\n"
    }
   }
  },
  {
   "cell_type": "markdown",
   "source": [
    "# Training"
   ],
   "metadata": {
    "collapsed": false,
    "pycharm": {
     "name": "#%% md\n"
    }
   }
  },
  {
   "cell_type": "code",
   "execution_count": null,
   "outputs": [],
   "source": [
    "from comic_ocr.utils.ploting import plot_losses, show_images\n",
    "from IPython.display import clear_output\n",
    "\n",
    "example = load_image(get_path_project_dir('example/manga_annotated/normal_01.jpg'))\n",
    "\n",
    "def show_example(model, img):\n",
    "    mask_char, mask_line = model._create_output_mark_images(img)\n",
    "    show_images(\n",
    "        images=[img, mask_char.convert('RGB'), mask_line.convert('RGB')], \n",
    "        texts=['Input', 'Characters', 'Lines'], \n",
    "        figsize=(10, 10), num_col=3\n",
    "    )\n",
    "\n",
    "show_example(model, training_dataset.get_image(0))\n",
    "show_example(model, dataset_annotated.get_image(0))\n",
    "show_example(model, dataset_annotated.get_image(1))\n",
    "show_example(model, example)"
   ],
   "metadata": {
    "collapsed": false,
    "pycharm": {
     "name": "#%%\n"
    }
   }
  },
  {
   "cell_type": "code",
   "execution_count": null,
   "outputs": [],
   "source": [
    "def save_and_report(i_epoch, train_losses, val_losses):\n",
    "    clear_output()\n",
    "    plot_losses(train_losses, val_losses)\n",
    "    show_example(model, training_dataset.get_image(0))\n",
    "    show_example(model, dataset_annotated.get_image(0))\n",
    "    show_example(model, dataset_annotated.get_image(1))\n",
    "    show_example(model, example)\n",
    "    \n",
    "    torch.save(model, model_path)"
   ],
   "metadata": {
    "collapsed": false,
    "pycharm": {
     "name": "#%%\n"
    }
   }
  },
  {
   "cell_type": "code",
   "execution_count": null,
   "outputs": [],
   "source": [
    "from comic_ocr.models.localization.train import train\n",
    "_ = train(model,\n",
    "          train_dataset=training_dataset,\n",
    "          validate_dataset=validation_dataset,\n",
    "          validate_every_n=300,\n",
    "          update_callback=save_and_report,\n",
    "          update_every_n=300,\n",
    "          batch_size=5,\n",
    "          epoch_count=5)"
   ],
   "metadata": {
    "collapsed": false,
    "pycharm": {
     "name": "#%%\n"
    }
   }
  },
  {
   "cell_type": "code",
   "execution_count": null,
   "outputs": [],
   "source": [],
   "metadata": {
    "collapsed": false,
    "pycharm": {
     "name": "#%%\n"
    }
   }
  },
  {
   "cell_type": "code",
   "execution_count": null,
   "outputs": [],
   "source": [],
   "metadata": {
    "collapsed": false,
    "pycharm": {
     "name": "#%%\n"
    }
   }
  },
  {
   "cell_type": "code",
   "execution_count": null,
   "id": "c9c928bd",
   "metadata": {},
   "outputs": [],
   "source": []
  },
  {
   "cell_type": "code",
   "execution_count": null,
   "id": "e1a72d76",
   "metadata": {},
   "outputs": [],
   "source": []
  }
 ],
 "metadata": {
  "kernelspec": {
   "display_name": "Python 3 (ipykernel)",
   "language": "python",
   "name": "python3"
  },
  "language_info": {
   "codemirror_mode": {
    "name": "ipython",
    "version": 3
   },
   "file_extension": ".py",
   "mimetype": "text/x-python",
   "name": "python",
   "nbconvert_exporter": "python",
   "pygments_lexer": "ipython3",
   "version": "3.9.12"
  }
 },
 "nbformat": 4,
 "nbformat_minor": 5
}
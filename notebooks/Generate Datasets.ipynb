{
 "cells": [
  {
   "cell_type": "code",
   "execution_count": 13,
   "metadata": {
    "pycharm": {
     "name": "#%%\n"
    }
   },
   "outputs": [],
   "source": [
    "import sys\n",
    "import os\n",
    "sys.path.append('..')\n",
    "\n",
    "from PIL import ImageFont\n",
    "\n",
    "from comic_ocr.types import Size\n",
    "from comic_ocr.utils.files import load_images, load_texts, get_path_project_dir\n",
    "from comic_ocr.utils.ploting import show_images"
   ]
  },
  {
   "cell_type": "markdown",
   "metadata": {
    "pycharm": {
     "name": "#%% md\n"
    }
   },
   "source": [
    "# Prepare the data for generator"
   ]
  },
  {
   "cell_type": "code",
   "execution_count": 14,
   "metadata": {
    "pycharm": {
     "name": "#%%\n"
    }
   },
   "outputs": [
    {
     "name": "stdout",
     "output_type": "stream",
     "text": [
      "/Users/wanasit/Workspace/manga-ocr/data\n",
      "['init_image_data.py', '.DS_Store', 'manga_line_annotated', 'drawings', 'output', 'others', 'manga_line_init', 'manga_unannotated', 'text', 'fonts']\n"
     ]
    }
   ],
   "source": [
    "generator_input_dir = get_path_project_dir('data/')\n",
    "\n",
    "print(os.path.abspath(generator_input_dir))\n",
    "print(os.listdir(generator_input_dir))"
   ]
  },
  {
   "cell_type": "markdown",
   "metadata": {
    "pycharm": {
     "name": "#%% md\n"
    }
   },
   "source": [
    "### Prepare the data for generator > Drawings"
   ]
  },
  {
   "cell_type": "code",
   "execution_count": null,
   "outputs": [],
   "source": [
    "choices_drawings, _ = load_images(generator_input_dir + '/drawings/*')\n",
    "\n",
    "print('choices_drawings', len(choices_drawings))\n",
    "show_images(choices_drawings[:3])"
   ],
   "metadata": {
    "collapsed": false,
    "pycharm": {
     "name": "#%%\n"
    }
   }
  },
  {
   "cell_type": "markdown",
   "source": [
    "### Prepare the data for generator > Fonts"
   ],
   "metadata": {
    "collapsed": false,
    "pycharm": {
     "name": "#%% md\n"
    }
   }
  },
  {
   "cell_type": "code",
   "execution_count": null,
   "outputs": [],
   "source": [
    "choices_fonts = [] + \\\n",
    "                [ImageFont.truetype(generator_input_dir + '/fonts/Augie.ttf', size=15)] + \\\n",
    "                [ImageFont.truetype(generator_input_dir + '/fonts/Augie.ttf', size=18)] + \\\n",
    "                [ImageFont.truetype(generator_input_dir + '/fonts/Augie.ttf', size=22)] + \\\n",
    "                [ImageFont.truetype(generator_input_dir + '/fonts/ComicRelief.ttf', size=15)] + \\\n",
    "                [ImageFont.truetype(generator_input_dir + '/fonts/ComicRelief.ttf', size=20)] + \\\n",
    "                [ImageFont.truetype(generator_input_dir + '/fonts/IndieFlower.ttf', size=18)] + \\\n",
    "                [ImageFont.truetype(generator_input_dir + '/fonts/IndieFlower.ttf', size=23)] + \\\n",
    "                [ImageFont.truetype(generator_input_dir + '/fonts/IndieFlower.ttf', size=28)] + \\\n",
    "                [ImageFont.truetype(generator_input_dir + '/fonts/Komika_Display.ttf', size=15)] + \\\n",
    "                [ImageFont.truetype(generator_input_dir + '/fonts/Komika_Display.ttf', size=20)] + \\\n",
    "                [ImageFont.truetype(generator_input_dir + '/fonts/Komika_Text.ttf', size=15)] + \\\n",
    "                [ImageFont.truetype(generator_input_dir + '/fonts/Komika_Text.ttf', size=18)] + \\\n",
    "                [ImageFont.truetype(generator_input_dir + '/fonts/Komika_Text.ttf', size=24)] + \\\n",
    "                [ImageFont.truetype(generator_input_dir + '/fonts/Cool Cat.ttf', size=16)] + \\\n",
    "                [ImageFont.truetype(generator_input_dir + '/fonts/Cool Cat.ttf', size=18)] + \\\n",
    "                [ImageFont.truetype(generator_input_dir + '/fonts/Cool Cat.ttf', size=21)] + \\\n",
    "                [ImageFont.truetype(generator_input_dir + '/fonts/OpenSans.ttf', size=16)] + \\\n",
    "                [ImageFont.truetype(generator_input_dir + '/fonts/OpenSans.ttf', size=20)] + \\\n",
    "                [ImageFont.truetype(generator_input_dir + '/fonts/SF_Cartoonist_Hand.ttf', size=16)] + \\\n",
    "                [ImageFont.truetype(generator_input_dir + '/fonts/SF_Cartoonist_Hand.ttf', size=20)] + \\\n",
    "                [ImageFont.truetype(generator_input_dir + '/fonts/Warung Kopi.otf', size=16)] + \\\n",
    "                [ImageFont.truetype(generator_input_dir + '/fonts/Warung Kopi.otf', size=20)] \n",
    "\n",
    "print('choices_fonts', len(choices_fonts))"
   ],
   "metadata": {
    "collapsed": false,
    "pycharm": {
     "name": "#%%\n"
    }
   }
  },
  {
   "cell_type": "markdown",
   "source": [
    "### Prepare the data for generator > Texts (or Quotes)"
   ],
   "metadata": {
    "collapsed": false,
    "pycharm": {
     "name": "#%% md\n"
    }
   }
  },
  {
   "cell_type": "code",
   "execution_count": null,
   "outputs": [],
   "source": [
    "choices_texts = load_texts(generator_input_dir + '/text/texts.txt')\n",
    "choices_texts = [text for text in choices_texts if len(text) < 100]\n",
    "\n",
    "print('choices_fonts', len(choices_texts))\n",
    "print(choices_texts[:3])"
   ],
   "metadata": {
    "collapsed": false,
    "pycharm": {
     "name": "#%%\n"
    }
   }
  },
  {
   "cell_type": "markdown",
   "source": [
    "# Create Generator"
   ],
   "metadata": {
    "collapsed": false,
    "pycharm": {
     "name": "#%% md\n"
    }
   }
  },
  {
   "cell_type": "code",
   "execution_count": null,
   "outputs": [],
   "source": [
    "from comic_ocr.dataset.generated_manga import MangaGenerator"
   ],
   "metadata": {
    "collapsed": false,
    "pycharm": {
     "name": "#%%\n"
    }
   }
  },
  {
   "cell_type": "code",
   "execution_count": null,
   "outputs": [],
   "source": [
    "generator = MangaGenerator.create(\n",
    "    choices_drawings=choices_drawings,\n",
    "    choices_texts=choices_texts,\n",
    "    choices_fonts=choices_fonts,\n",
    "    choices_text_counts=[3, 3, 3, 4, 4, 4, 5, 5, 6, 6, 7],\n",
    "    random_salt='ab')\n",
    "\n",
    "image, texts = generator.generate(output_size=(750, 500), random_seed='1')\n",
    "print(image)\n",
    "print(texts)\n",
    "show_images(image)"
   ],
   "metadata": {
    "collapsed": false,
    "pycharm": {
     "name": "#%%\n"
    }
   }
  },
  {
   "cell_type": "code",
   "execution_count": null,
   "outputs": [],
   "source": [
    "image, texts = generator.generate(output_size=(750, 500))\n",
    "show_images(image)"
   ],
   "metadata": {
    "collapsed": false,
    "pycharm": {
     "name": "#%%\n"
    }
   }
  },
  {
   "cell_type": "markdown",
   "source": [
    "# Create dataset"
   ],
   "metadata": {
    "collapsed": false,
    "pycharm": {
     "name": "#%% md\n"
    }
   }
  },
  {
   "cell_type": "code",
   "execution_count": null,
   "outputs": [],
   "source": [
    "from comic_ocr.dataset.generated_manga import create_dataset\n",
    "\n",
    "create_dataset(\n",
    "    generator=generator,\n",
    "    dataset_dir=get_path_project_dir('data/output/generate_manga_dataset'),\n",
    "    output_size=Size.of(750, 1500),\n",
    "    output_count=350,\n",
    ")"
   ],
   "metadata": {
    "collapsed": false,
    "pycharm": {
     "name": "#%%\n"
    }
   }
  },
  {
   "cell_type": "code",
   "execution_count": 32,
   "metadata": {
    "pycharm": {
     "name": "#%%\n"
    }
   },
   "outputs": [],
   "source": [
    "from comic_ocr.dataset.generated_manga import create_dataset\n",
    "\n",
    "create_dataset(\n",
    "    generator=generator,\n",
    "    dataset_dir=get_path_project_dir('data/output/generate_manga_dataset'),\n",
    "    output_size=Size.of(750, 1500),\n",
    "    output_count=350,\n",
    ")"
   ]
  },
  {
   "cell_type": "code",
   "execution_count": null,
   "metadata": {
    "pycharm": {
     "name": "#%%\n"
    }
   },
   "outputs": [],
   "source": []
  },
  {
   "cell_type": "code",
   "execution_count": null,
   "metadata": {
    "pycharm": {
     "name": "#%%\n"
    }
   },
   "outputs": [],
   "source": []
  }
 ],
 "metadata": {
  "kernelspec": {
   "display_name": "Python 3 (ipykernel)",
   "language": "python",
   "name": "python3"
  },
  "language_info": {
   "codemirror_mode": {
    "name": "ipython",
    "version": 3
   },
   "file_extension": ".py",
   "mimetype": "text/x-python",
   "name": "python",
   "nbconvert_exporter": "python",
   "pygments_lexer": "ipython3",
   "version": "3.9.12"
  }
 },
 "nbformat": 4,
 "nbformat_minor": 2
}